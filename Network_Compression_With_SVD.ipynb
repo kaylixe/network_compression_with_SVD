{
  "nbformat": 4,
  "nbformat_minor": 0,
  "metadata": {
    "colab": {
      "name": "Network Compression With SVD.ipynb",
      "version": "0.3.2",
      "provenance": [],
      "collapsed_sections": [],
      "toc_visible": true
    },
    "kernelspec": {
      "name": "python3",
      "display_name": "Python 3"
    },
    "accelerator": "GPU"
  },
  "cells": [
    {
      "metadata": {
        "id": "HcVm3iywM4Kl",
        "colab_type": "code",
        "colab": {}
      },
      "cell_type": "code",
      "source": [
        "import tensorflow as tf\n",
        "import math\n",
        "import numpy as np\n",
        "import os\n",
        "import matplotlib.pyplot as plt"
      ],
      "execution_count": 0,
      "outputs": []
    },
    {
      "metadata": {
        "id": "W1BnUv8qmYz7",
        "colab_type": "code",
        "colab": {}
      },
      "cell_type": "code",
      "source": [
        "#gpu_options = tf.GPUOptions(allow_growth = True)\n",
        "#config=tf.ConfigProto(gpu_options=gpu_options)\n",
        "#config.gpu_options.per_process_gpu_memory_fraction = 0.34"
      ],
      "execution_count": 0,
      "outputs": []
    },
    {
      "metadata": {
        "id": "w_FwSgQh9zD6",
        "colab_type": "code",
        "colab": {}
      },
      "cell_type": "code",
      "source": [
        "# Import mnist dataset"
      ],
      "execution_count": 0,
      "outputs": []
    },
    {
      "metadata": {
        "id": "a9J62jpgj3en",
        "colab_type": "code",
        "outputId": "344ebc47-9bc9-4976-a13a-e31b61e9bc47",
        "colab": {
          "base_uri": "https://localhost:8080/",
          "height": 85
        }
      },
      "cell_type": "code",
      "source": [
        "from tensorflow.examples.tutorials.mnist import input_data\n",
        "mnist = input_data.read_data_sets(\"MNIST_data\", one_hot=True)"
      ],
      "execution_count": 0,
      "outputs": [
        {
          "output_type": "stream",
          "text": [
            "Extracting MNIST_data/train-images-idx3-ubyte.gz\n",
            "Extracting MNIST_data/train-labels-idx1-ubyte.gz\n",
            "Extracting MNIST_data/t10k-images-idx3-ubyte.gz\n",
            "Extracting MNIST_data/t10k-labels-idx1-ubyte.gz\n"
          ],
          "name": "stdout"
        }
      ]
    },
    {
      "metadata": {
        "id": "FrxwErVL2sCA",
        "colab_type": "code",
        "outputId": "04c9c26e-fec7-4949-b83a-b7e68ea711f6",
        "colab": {
          "base_uri": "https://localhost:8080/",
          "height": 34
        }
      },
      "cell_type": "code",
      "source": [
        "mnist.train.images.shape"
      ],
      "execution_count": 0,
      "outputs": [
        {
          "output_type": "execute_result",
          "data": {
            "text/plain": [
              "(55000, 784)"
            ]
          },
          "metadata": {
            "tags": []
          },
          "execution_count": 6
        }
      ]
    },
    {
      "metadata": {
        "id": "PE2wYu3JgRVB",
        "colab_type": "code",
        "colab": {}
      },
      "cell_type": "code",
      "source": [
        "# We will train the model with 784 features derived from the shape. The number of digits are ten which is the number of classes. "
      ],
      "execution_count": 0,
      "outputs": []
    },
    {
      "metadata": {
        "id": "BtAczv4mcdTC",
        "colab_type": "code",
        "colab": {}
      },
      "cell_type": "code",
      "source": [
        "n_features = 784\n",
        "n_classes = 10\n",
        "batch_size = 100\n",
        "lr = 0.0001\n",
        "epochs = 30\n",
        "error = np.zeros(epochs)"
      ],
      "execution_count": 0,
      "outputs": []
    },
    {
      "metadata": {
        "id": "eonDP22IgCPS",
        "colab_type": "code",
        "colab": {}
      },
      "cell_type": "code",
      "source": [
        "# Initialize the viriables"
      ],
      "execution_count": 0,
      "outputs": []
    },
    {
      "metadata": {
        "id": "Ah5SfcYK-Mps",
        "colab_type": "code",
        "colab": {}
      },
      "cell_type": "code",
      "source": [
        "X = tf.placeholder(tf.float32, [None, n_features])\n",
        "Y = tf.placeholder(tf.float32)"
      ],
      "execution_count": 0,
      "outputs": []
    },
    {
      "metadata": {
        "id": "5wm_cjC2f8tZ",
        "colab_type": "code",
        "colab": {}
      },
      "cell_type": "code",
      "source": [
        "# Convigure the network"
      ],
      "execution_count": 0,
      "outputs": []
    },
    {
      "metadata": {
        "id": "iixyBAfx13Yb",
        "colab_type": "code",
        "outputId": "dd975345-f64d-4936-c629-8a0f16dfd865",
        "colab": {
          "base_uri": "https://localhost:8080/",
          "height": 139
        }
      },
      "cell_type": "code",
      "source": [
        "L1 = tf.layers.dense(X, 1024, activation = tf.nn.relu, kernel_initializer = tf.contrib.layers.xavier_initializer(), name = 'L1')\n",
        "L2 = tf.layers.dense(L1, 1024, activation = tf.nn.relu, kernel_initializer = tf.contrib.layers.xavier_initializer(), name = 'L2')\n",
        "L3 = tf.layers.dense(L2, 1024, activation = tf.nn.relu, kernel_initializer = tf.contrib.layers.xavier_initializer(), name = 'L3')\n",
        "L4 = tf.layers.dense(L3, 1024, activation = tf.nn.relu, kernel_initializer = tf.contrib.layers.xavier_initializer(), name = 'L4')\n",
        "L5 = tf.layers.dense(L4, 1024, activation = tf.nn.relu, kernel_initializer = tf.contrib.layers.xavier_initializer(), name = 'L5')\n",
        "Ylogits = tf.layers.dense(L5, n_classes, kernel_initializer= tf.contrib.layers.xavier_initializer(), name = 'Ylogits')\n",
        "pred = tf.nn.softmax(logits = Ylogits)"
      ],
      "execution_count": 0,
      "outputs": [
        {
          "output_type": "stream",
          "text": [
            "WARNING:tensorflow:From <ipython-input-9-d690fea2870d>:1: dense (from tensorflow.python.layers.core) is deprecated and will be removed in a future version.\n",
            "Instructions for updating:\n",
            "Use keras.layers.dense instead.\n",
            "WARNING:tensorflow:From /usr/local/lib/python3.6/dist-packages/tensorflow/python/framework/op_def_library.py:263: colocate_with (from tensorflow.python.framework.ops) is deprecated and will be removed in a future version.\n",
            "Instructions for updating:\n",
            "Colocations handled automatically by placer.\n"
          ],
          "name": "stdout"
        }
      ]
    },
    {
      "metadata": {
        "id": "XzQldq5YgmK3",
        "colab_type": "code",
        "colab": {}
      },
      "cell_type": "code",
      "source": [
        "# The cell below will compute our cost function"
      ],
      "execution_count": 0,
      "outputs": []
    },
    {
      "metadata": {
        "id": "2fjFR-JH-YRS",
        "colab_type": "code",
        "colab": {}
      },
      "cell_type": "code",
      "source": [
        "cost = tf.reduce_mean(tf.nn.softmax_cross_entropy_with_logits_v2(logits = Ylogits, labels = Y))\n",
        "optimizer = tf.train.AdamOptimizer(learning_rate = lr).minimize(cost)"
      ],
      "execution_count": 0,
      "outputs": []
    },
    {
      "metadata": {
        "id": "cmwoEVhMpana",
        "colab_type": "code",
        "colab": {}
      },
      "cell_type": "code",
      "source": [
        "sess = tf.Session()\n",
        "saver = tf.train.Saver()\n",
        "sess.run(tf.global_variables_initializer())"
      ],
      "execution_count": 0,
      "outputs": []
    },
    {
      "metadata": {
        "id": "Wf92bYqv-edg",
        "colab_type": "code",
        "outputId": "79e7bbf2-aa32-4343-f57f-3025dcf3b5b5",
        "colab": {
          "base_uri": "https://localhost:8080/",
          "height": 34
        }
      },
      "cell_type": "code",
      "source": [
        "for epoch in range(epochs):\n",
        "    for _ in range(int(mnist.train.num_examples/batch_size)):\n",
        "        _x, _y = mnist.train.next_batch(batch_size)\n",
        "        l, _ = sess.run([cost, optimizer], feed_dict = {X: _x, Y: _y})\n",
        "        error[epoch] += l\n",
        "print('Epoch', epochs, ' loss: ', np.round(error[epochs-1],2))"
      ],
      "execution_count": 0,
      "outputs": [
        {
          "output_type": "stream",
          "text": [
            "Epoch 30  loss:  2.54\n"
          ],
          "name": "stdout"
        }
      ]
    },
    {
      "metadata": {
        "id": "nKqPmBqZgvbR",
        "colab_type": "code",
        "colab": {}
      },
      "cell_type": "code",
      "source": [
        "# The last epoch of the the cost function has a loss of 2.54 which is resonably low. Which means our model is reasobly tuned. The cell below\n",
        "# Will calculate the accuracy level of our model. The accuracy comes to about 98% which is pretty decent."
      ],
      "execution_count": 0,
      "outputs": []
    },
    {
      "metadata": {
        "id": "qcPrENzxRiEM",
        "colab_type": "code",
        "outputId": "6e7c5e47-afa8-43bb-e7b4-69d5c1254627",
        "colab": {
          "base_uri": "https://localhost:8080/",
          "height": 34
        }
      },
      "cell_type": "code",
      "source": [
        "correct = tf.equal(tf.argmax(pred, 1), tf.argmax(Y, 1))\n",
        "accuracy = tf.reduce_mean(tf.cast(correct, 'float'))\n",
        "print('Accuracy:',accuracy.eval({X:mnist.test.images, Y:mnist.test.labels}, session = sess))"
      ],
      "execution_count": 0,
      "outputs": [
        {
          "output_type": "stream",
          "text": [
            "Accuracy: 0.9807\n"
          ],
          "name": "stdout"
        }
      ]
    },
    {
      "metadata": {
        "id": "waOCyJ9Thdvi",
        "colab_type": "code",
        "colab": {}
      },
      "cell_type": "code",
      "source": [
        "# Below we save the model for reuse later"
      ],
      "execution_count": 0,
      "outputs": []
    },
    {
      "metadata": {
        "id": "NuPWTpnltPUP",
        "colab_type": "code",
        "colab": {}
      },
      "cell_type": "code",
      "source": [
        "saver.save(sess, 'model/mnist_mod')\n",
        "sess.close()"
      ],
      "execution_count": 0,
      "outputs": []
    },
    {
      "metadata": {
        "id": "uwjGgjw0hplL",
        "colab_type": "code",
        "colab": {}
      },
      "cell_type": "code",
      "source": [
        "# Restore the model and pull the values of the weights. "
      ],
      "execution_count": 0,
      "outputs": []
    },
    {
      "metadata": {
        "id": "BPRk0Hzf0Jwx",
        "colab_type": "code",
        "outputId": "ce7dbf25-fd3b-4d4c-df2c-087507e93699",
        "colab": {
          "base_uri": "https://localhost:8080/",
          "height": 34
        }
      },
      "cell_type": "code",
      "source": [
        "saver = tf.train.Saver()\n",
        "sess = tf.Session()\n",
        "saver.restore(sess, 'model/mnist_mod')"
      ],
      "execution_count": 0,
      "outputs": [
        {
          "output_type": "stream",
          "text": [
            "INFO:tensorflow:Restoring parameters from model/mnist_mod\n"
          ],
          "name": "stdout"
        }
      ]
    },
    {
      "metadata": {
        "id": "TkHjIX1rAURz",
        "colab_type": "code",
        "colab": {}
      },
      "cell_type": "code",
      "source": [
        "w1 = tf.get_default_graph().get_tensor_by_name(os.path.split(L1.name)[0] + '/kernel:0')\n",
        "b1 = tf.get_default_graph().get_tensor_by_name(os.path.split(L1.name)[0] + '/bias:0')\n",
        "w2 = tf.get_default_graph().get_tensor_by_name(os.path.split(L2.name)[0] + '/kernel:0')\n",
        "b2 = tf.get_default_graph().get_tensor_by_name(os.path.split(L2.name)[0] + '/bias:0')\n",
        "w3 = tf.get_default_graph().get_tensor_by_name(os.path.split(L3.name)[0] + '/kernel:0')\n",
        "b3 = tf.get_default_graph().get_tensor_by_name(os.path.split(L3.name)[0] + '/bias:0')\n",
        "w4 = tf.get_default_graph().get_tensor_by_name(os.path.split(L4.name)[0] + '/kernel:0')\n",
        "b4 = tf.get_default_graph().get_tensor_by_name(os.path.split(L4.name)[0] + '/bias:0')\n",
        "w5 = tf.get_default_graph().get_tensor_by_name(os.path.split(L5.name)[0] + '/kernel:0')\n",
        "b5 = tf.get_default_graph().get_tensor_by_name(os.path.split(L5.name)[0] + '/bias:0')\n",
        "w_out = tf.get_default_graph().get_tensor_by_name(os.path.split(Ylogits.name)[0] + '/kernel:0')\n",
        "b_out = tf.get_default_graph().get_tensor_by_name(os.path.split(Ylogits.name)[0] + '/bias:0')"
      ],
      "execution_count": 0,
      "outputs": []
    },
    {
      "metadata": {
        "id": "_NtR6ARMiiMA",
        "colab_type": "code",
        "colab": {}
      },
      "cell_type": "code",
      "source": [
        "# Using the tensorflow function, we compute the simple value decomposition values of the weights of each network."
      ],
      "execution_count": 0,
      "outputs": []
    },
    {
      "metadata": {
        "id": "gjK28hhUW6vz",
        "colab_type": "code",
        "colab": {}
      },
      "cell_type": "code",
      "source": [
        "s1, u1, v1 = tf.svd(w1)\n",
        "s2, u2, v2 = tf.svd(w2)\n",
        "s3, u3, v3 = tf.svd(w3)\n",
        "s4, u4, v4 = tf.svd(w4)\n",
        "s5, u5, v5 = tf.svd(w5)"
      ],
      "execution_count": 0,
      "outputs": []
    },
    {
      "metadata": {
        "id": "iauliuHViyY0",
        "colab_type": "code",
        "colab": {}
      },
      "cell_type": "code",
      "source": [
        "# Using the u and v values of the weights to create a feed forward network to predict the digits."
      ],
      "execution_count": 0,
      "outputs": []
    },
    {
      "metadata": {
        "id": "tXEb7-enXKQk",
        "colab_type": "code",
        "colab": {}
      },
      "cell_type": "code",
      "source": [
        "d = tf.placeholder(tf.int32, shape = (), name = \"d\")\n",
        "l1 = tf.nn.relu(tf.add(tf.matmul(tf.multiply(tf.matmul(X, u1[:,:d]), s1[:d]), tf.transpose(v1)[:d,:]), b1))\n",
        "l2 = tf.nn.relu(tf.add(tf.matmul(tf.multiply(tf.matmul(l1, u2[:,:d]), s2[:d]), tf.transpose(v2)[:d,:]), b2))\n",
        "l3 = tf.nn.relu(tf.add(tf.matmul(tf.multiply(tf.matmul(l2, u3[:,:d]), s3[:d]), tf.transpose(v3)[:d,:]), b3))\n",
        "l4 = tf.nn.relu(tf.add(tf.matmul(tf.multiply(tf.matmul(l3, u4[:,:d]), s4[:d]), tf.transpose(v4)[:d,:]), b4))\n",
        "l5 = tf.nn.relu(tf.add(tf.matmul(tf.multiply(tf.matmul(l4, u5[:,:d]), s5[:d]), tf.transpose(v5)[:d,:]), b5))\n",
        "\n",
        "logits = l5@w_out +  b_out\n",
        "\n",
        "svd_pred = tf.nn.softmax(logits = logits)"
      ],
      "execution_count": 0,
      "outputs": []
    },
    {
      "metadata": {
        "id": "fL_0t9FIkk4Y",
        "colab_type": "code",
        "colab": {}
      },
      "cell_type": "code",
      "source": [
        "# Determine the accuracy of the prediction"
      ],
      "execution_count": 0,
      "outputs": []
    },
    {
      "metadata": {
        "id": "qO2_zIXHXO94",
        "colab_type": "code",
        "colab": {}
      },
      "cell_type": "code",
      "source": [
        "acc_ = tf.equal(tf.argmax(svd_pred, 1), tf.argmax(Y, 1))\n",
        "accuracy = tf.reduce_mean(tf.cast(acc_, 'float'))"
      ],
      "execution_count": 0,
      "outputs": []
    },
    {
      "metadata": {
        "id": "-geHeVWDkroe",
        "colab_type": "code",
        "colab": {}
      },
      "cell_type": "code",
      "source": [
        "# Using different D values, determine the accuracy of the prediction using the new network."
      ],
      "execution_count": 0,
      "outputs": []
    },
    {
      "metadata": {
        "id": "c8YOM3gOuhXK",
        "colab_type": "code",
        "colab": {}
      },
      "cell_type": "code",
      "source": [
        "dvalue = [10, 20, 50, 100, 200, 786]\n",
        "acc = np.zeros(len(dvalue))\n",
        "\n",
        "for i in range(len(dvalue)):\n",
        "    acc[i] = sess.run(accuracy, feed_dict = {d: dvalue[i], X:mnist.test.images, Y:mnist.test.labels})"
      ],
      "execution_count": 0,
      "outputs": []
    },
    {
      "metadata": {
        "id": "lgh-8prXlAbN",
        "colab_type": "code",
        "colab": {}
      },
      "cell_type": "code",
      "source": [
        "# A plot of the accuracy values vs the D values is as shown below."
      ],
      "execution_count": 0,
      "outputs": []
    },
    {
      "metadata": {
        "id": "gNo3LBZ23DY3",
        "colab_type": "code",
        "outputId": "143e8a84-55ee-44c7-d8d7-c0bd64d254a9",
        "colab": {
          "base_uri": "https://localhost:8080/",
          "height": 620
        }
      },
      "cell_type": "code",
      "source": [
        "plt.figure(figsize=(15,10))\n",
        "plt.plot(dvalue, acc, 'bo')\n",
        "plt.plot(dvalue, acc, 'r-')\n",
        "plt.xlabel(\"D value\")\n",
        "plt.ylabel(\"Accuracy\")\n",
        "plt.title(\"Plot of Accuracy vs D values\")\n",
        "plt.show()"
      ],
      "execution_count": 0,
      "outputs": [
        {
          "output_type": "display_data",
          "data": {
            "image/png": "[encoded data removed]",
            "text/plain": [
              "<Figure size 1080x720 with 1 Axes>"
            ]
          },
          "metadata": {
            "tags": []
          }
        }
      ]
    },
    {
      "metadata": {
        "id": "ckcCsd7P3IGy",
        "colab_type": "code",
        "colab": {}
      },
      "cell_type": "code",
      "source": [
        "S1_, U1_, V1_, b1 = sess.run([s1, u1, v1, b1])\n",
        "S2_, U2_, V2_, b2 = sess.run([s2, u2, v2, b2])\n",
        "S3_, U3_, V3_, b3 = sess.run([s3, u3, v3, b3])\n",
        "S4_, U4_, V4_, b4 = sess.run([s4, u4, v4, b4])\n",
        "S5_, U5_, V5_, b5 = sess.run([s5, u5, v5, b5])"
      ],
      "execution_count": 0,
      "outputs": []
    },
    {
      "metadata": {
        "id": "NUJxT4myx7ld",
        "colab_type": "code",
        "colab": {}
      },
      "cell_type": "code",
      "source": [
        "wout, bout = sess.run([w_out, b_out])"
      ],
      "execution_count": 0,
      "outputs": []
    },
    {
      "metadata": {
        "id": "jiyyo4txlUFy",
        "colab_type": "code",
        "colab": {}
      },
      "cell_type": "code",
      "source": [
        "# Fine tune the network for a fixed value of D = 20"
      ],
      "execution_count": 0,
      "outputs": []
    },
    {
      "metadata": {
        "id": "azxVuSaEHXTe",
        "colab_type": "code",
        "colab": {}
      },
      "cell_type": "code",
      "source": [
        "d_new = 20\n",
        "\n",
        "V1 = tf.Variable((S1_[:d_new]*V1_[:, :d_new]).T, name = 'V1')\n",
        "U1 = tf.Variable(U1_[:,:20], name = 'U1')\n",
        "B1 = tf.Variable(b1, name = 'B1')"
      ],
      "execution_count": 0,
      "outputs": []
    },
    {
      "metadata": {
        "id": "42Mgz9MqHcVN",
        "colab_type": "code",
        "colab": {}
      },
      "cell_type": "code",
      "source": [
        "V2 = tf.Variable((S2_[:d_new]*V2_[:, :d_new]).T, name = 'V2')\n",
        "U2 = tf.Variable(U2_[:,:20], name = 'U2')\n",
        "B2 = tf.Variable(b2, name = 'B2')"
      ],
      "execution_count": 0,
      "outputs": []
    },
    {
      "metadata": {
        "id": "EnPDVNFrHiWo",
        "colab_type": "code",
        "colab": {}
      },
      "cell_type": "code",
      "source": [
        "V2 = tf.Variable((S2_[:d_new]*V2_[:, :d_new]).T, name = 'V2')\n",
        "U2 = tf.Variable(U2_[:,:20], name = 'U2')\n",
        "B2 = tf.Variable(b2, name = 'B2')"
      ],
      "execution_count": 0,
      "outputs": []
    },
    {
      "metadata": {
        "id": "yVJymz2hHnjA",
        "colab_type": "code",
        "colab": {}
      },
      "cell_type": "code",
      "source": [
        "V3 = tf.Variable((S3_[:d_new]*V3_[:, :d_new]).T, name = 'V3')\n",
        "U3 = tf.Variable(U3_[:,:20], name = 'U3')\n",
        "B3 = tf.Variable(b3, name = 'B3')"
      ],
      "execution_count": 0,
      "outputs": []
    },
    {
      "metadata": {
        "id": "pZnWRj07HsBs",
        "colab_type": "code",
        "colab": {}
      },
      "cell_type": "code",
      "source": [
        "V4 = tf.Variable((S4_[:d_new]*V4_[:, :d_new]).T, name = 'V4')\n",
        "U4 = tf.Variable(U4_[:,:20], name = 'U4')\n",
        "B4 = tf.Variable(b4, name = 'B4')"
      ],
      "execution_count": 0,
      "outputs": []
    },
    {
      "metadata": {
        "id": "cEGYgWghHw2z",
        "colab_type": "code",
        "colab": {}
      },
      "cell_type": "code",
      "source": [
        "V5 = tf.Variable((S5_[:d_new]*V5_[:, :d_new]).T, name = 'V5')\n",
        "U5 = tf.Variable(U5_[:,:20], name = 'U5')\n",
        "B5 = tf.Variable(b5, name = 'B5')"
      ],
      "execution_count": 0,
      "outputs": []
    },
    {
      "metadata": {
        "id": "o5ubUQSsBHlB",
        "colab_type": "code",
        "colab": {}
      },
      "cell_type": "code",
      "source": [
        "weight_out = tf.Variable(wout, name = 'weight_out')\n",
        "biases_out = tf.Variable(bout, name = 'biases_out')"
      ],
      "execution_count": 0,
      "outputs": []
    },
    {
      "metadata": {
        "id": "qdit9giCyLWV",
        "colab_type": "code",
        "colab": {}
      },
      "cell_type": "code",
      "source": [
        "variables_list = [V1, U1, V2, U2, V3, U3, V4, U4, V5, U5, B1, B2, B3, B4, B5, weight_out, biases_out]\n",
        "init_values = tf.variables_initializer(var_list=variables_list)"
      ],
      "execution_count": 0,
      "outputs": []
    },
    {
      "metadata": {
        "id": "ltrLC8oJyPYC",
        "colab_type": "code",
        "colab": {}
      },
      "cell_type": "code",
      "source": [
        "sess.run(init_values)"
      ],
      "execution_count": 0,
      "outputs": []
    },
    {
      "metadata": {
        "id": "V1kPxzkd1bcM",
        "colab_type": "code",
        "colab": {}
      },
      "cell_type": "code",
      "source": [
        "L1 = tf.nn.relu(tf.add(tf.matmul(X,(tf.matmul(U1,V1))), B1))\n",
        "L2 = tf.nn.relu(tf.add(tf.matmul(L1,(tf.matmul(U2,V2))), B2))\n",
        "L3 = tf.nn.relu(tf.add(tf.matmul(L2,(tf.matmul(U3,V3))), B3))\n",
        "L4 = tf.nn.relu(tf.add(tf.matmul(L3,(tf.matmul(U4,V4))), B4))\n",
        "L5 = tf.nn.relu(tf.add(tf.matmul(L4,(tf.matmul(U5,V5))), B5))\n",
        "\n",
        "svd_logit = L5@weight_out +  biases_out\n",
        "\n",
        "svd_pred = tf.nn.softmax(logits = svd_logit)"
      ],
      "execution_count": 0,
      "outputs": []
    },
    {
      "metadata": {
        "id": "dMvbKnoZ1f9P",
        "colab_type": "code",
        "colab": {}
      },
      "cell_type": "code",
      "source": [
        "lr_svd = 0.00001"
      ],
      "execution_count": 0,
      "outputs": []
    },
    {
      "metadata": {
        "id": "wdQ_k3w51jSb",
        "colab_type": "code",
        "colab": {}
      },
      "cell_type": "code",
      "source": [
        "t_var = set(tf.global_variables())\n",
        "cost_ = tf.reduce_mean(tf.nn.softmax_cross_entropy_with_logits_v2(logits = svd_logit, labels = Y))\n",
        "optimizer_ = tf.train.AdamOptimizer(learning_rate = lr_svd).minimize(cost_)\n",
        "sess.run(tf.variables_initializer(set(tf.global_variables()) - t_var))"
      ],
      "execution_count": 0,
      "outputs": []
    },
    {
      "metadata": {
        "id": "dIEse4bv1vdw",
        "colab_type": "code",
        "outputId": "e2e537ec-f386-4bd6-96bd-51f3e3822063",
        "colab": {
          "base_uri": "https://localhost:8080/",
          "height": 357
        }
      },
      "cell_type": "code",
      "source": [
        "epochs = 20\n",
        "error_ = np.zeros(epochs)\n",
        "for epoch in range(epochs):\n",
        "    for _ in range(int(mnist.train.num_examples/batch_size)):\n",
        "        _x, _y = mnist.train.next_batch(batch_size)\n",
        "        l, _ = sess.run([cost_, optimizer_], feed_dict = {X: _x, Y: _y})\n",
        "        error_[epoch] += l\n",
        "\n",
        "    print('Epoch', epoch+1, ' loss: ', np.round(error_[epoch],2))"
      ],
      "execution_count": 0,
      "outputs": [
        {
          "output_type": "stream",
          "text": [
            "Epoch 1  loss:  134.28\n",
            "Epoch 2  loss:  76.14\n",
            "Epoch 3  loss:  61.17\n",
            "Epoch 4  loss:  54.22\n",
            "Epoch 5  loss:  49.4\n",
            "Epoch 6  loss:  45.64\n",
            "Epoch 7  loss:  42.65\n",
            "Epoch 8  loss:  39.87\n",
            "Epoch 9  loss:  37.63\n",
            "Epoch 10  loss:  35.71\n",
            "Epoch 11  loss:  33.62\n",
            "Epoch 12  loss:  32.2\n",
            "Epoch 13  loss:  30.68\n",
            "Epoch 14  loss:  29.33\n",
            "Epoch 15  loss:  28.02\n",
            "Epoch 16  loss:  26.89\n",
            "Epoch 17  loss:  25.92\n",
            "Epoch 18  loss:  24.79\n",
            "Epoch 19  loss:  24.02\n",
            "Epoch 20  loss:  23.1\n"
          ],
          "name": "stdout"
        }
      ]
    },
    {
      "metadata": {
        "id": "0t_QaT-W190p",
        "colab_type": "code",
        "colab": {}
      },
      "cell_type": "code",
      "source": [
        "acc__new = tf.equal(tf.argmax(svd_pred, 1), tf.argmax(Y, 1))\n",
        "accuracy_new = tf.reduce_mean(tf.cast(acc__new, 'float'))"
      ],
      "execution_count": 0,
      "outputs": []
    },
    {
      "metadata": {
        "id": "e0JsuqR42GDN",
        "colab_type": "code",
        "outputId": "d366a143-8dee-4424-aae5-145eb581e063",
        "colab": {
          "base_uri": "https://localhost:8080/",
          "height": 34
        }
      },
      "cell_type": "code",
      "source": [
        "acc = sess.run(accuracy_new, feed_dict = {X:mnist.test.images, Y:mnist.test.labels})\n",
        "print('Accuracy: ', acc)"
      ],
      "execution_count": 0,
      "outputs": [
        {
          "output_type": "stream",
          "text": [
            "Accuracy:  0.9737\n"
          ],
          "name": "stdout"
        }
      ]
    },
    {
      "metadata": {
        "id": "IslMmQhXlsrA",
        "colab_type": "code",
        "colab": {}
      },
      "cell_type": "code",
      "source": [
        "# The initial value of D produced a very low accuracy. A fine tuned version was considerably higher and closer to the baseline."
      ],
      "execution_count": 0,
      "outputs": []
    },
    {
      "metadata": {
        "id": "FGcMytaWWP8R",
        "colab_type": "code",
        "colab": {}
      },
      "cell_type": "code",
      "source": [
        "sess.close()"
      ],
      "execution_count": 0,
      "outputs": []
    },
    {
      "metadata": {
        "id": "KKqMoIfL6K1n",
        "colab_type": "code",
        "colab": {}
      },
      "cell_type": "code",
      "source": [
        ""
      ],
      "execution_count": 0,
      "outputs": []
    }
  ]
}